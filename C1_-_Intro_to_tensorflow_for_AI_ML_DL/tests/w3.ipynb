{
 "cells": [
  {
   "cell_type": "markdown",
   "id": "a10e7bf4",
   "metadata": {},
   "source": [
    "<strong>input_shape = (batch_size, imagea_height, image width, depth)</strong>\n",
    "- <strong>batch_size:</strong><br>Refers to the number of training examples utilized in one iteration. The batch size can be one of three options. \n",
    "    - <strong>batch mode:</strong> where the batch size is equal to the total dataset thus making the iteration and epoch values equivalent\n",
    "    - <strong>mini-batch mode:</strong> where the batch size is greater than one but less than the total dataset size. Usually, a number that can be divided into the total dataset size.\n",
    "    - <strong>stochastic mode:</strong> where the batch size is equal to one. Therefore the gradient and the neural network parameters are updated after each sample.\n",
    "\n",
    "- <strong>image_height:</strong><br> The number of <em>rows</em> in each training example.\n",
    "- <strong>image_width:</strong><br> The number of <em>columns</em> in each training example.\n",
    "- <strong>depth:</strong><br> The number of color chanels, 3 for RGB 1 for greyscale.\n",
    "\n",
    "\n",
    "A simple image classification model is given beelow.\n",
    "```\n",
    "tf.keras.models.Sequantial(tf.keras.layers.Flatten(),\n",
    "                           tf.keras.leyers.Dense(512, activation='relu',\n",
    "                           tf.keras.leyers.Dense(10, ectivation=''softmax')\n",
    "```\n",
    "\n",
    "The convolutipn adds a layer adds a new layer of conv2d ```Conv2D``` and maxpool3 ```MaxPooling2D``` on the exixting layers.\n",
    " the code is given as below\n",
    " ```\n",
    " tf.keras.layers.Conv2D(*args, **kwargs)\n",
    " tf.keras.layerMaxPooling2D(*args, **kwargs)\n",
    " ```"
   ]
  },
  {
   "cell_type": "code",
   "execution_count": 1,
   "id": "cd7909f6",
   "metadata": {},
   "outputs": [
    {
     "name": "stderr",
     "output_type": "stream",
     "text": [
      "2022-09-28 19:21:53.187956: I tensorflow/core/platform/cpu_feature_guard.cc:193] This TensorFlow binary is optimized with oneAPI Deep Neural Network Library (oneDNN) to use the following CPU instructions in performance-critical operations:  AVX2 FMA\n",
      "To enable them in other operations, rebuild TensorFlow with the appropriate compiler flags.\n",
      "2022-09-28 19:21:58.377244: W tensorflow/stream_executor/platform/default/dso_loader.cc:64] Could not load dynamic library 'libcudart.so.11.0'; dlerror: libcudart.so.11.0: cannot open shared object file: No such file or directory\n",
      "2022-09-28 19:21:58.377341: I tensorflow/stream_executor/cuda/cudart_stub.cc:29] Ignore above cudart dlerror if you do not have a GPU set up on your machine.\n",
      "2022-09-28 19:21:58.851896: E tensorflow/stream_executor/cuda/cuda_blas.cc:2981] Unable to register cuBLAS factory: Attempting to register factory for plugin cuBLAS when one has already been registered\n",
      "2022-09-28 19:22:09.445417: W tensorflow/stream_executor/platform/default/dso_loader.cc:64] Could not load dynamic library 'libnvinfer.so.7'; dlerror: libnvinfer.so.7: cannot open shared object file: No such file or directory\n",
      "2022-09-28 19:22:09.445716: W tensorflow/stream_executor/platform/default/dso_loader.cc:64] Could not load dynamic library 'libnvinfer_plugin.so.7'; dlerror: libnvinfer_plugin.so.7: cannot open shared object file: No such file or directory\n",
      "2022-09-28 19:22:09.445749: W tensorflow/compiler/tf2tensorrt/utils/py_utils.cc:38] TF-TRT Warning: Cannot dlopen some TensorRT libraries. If you would like to use Nvidia GPU with TensorRT, please make sure the missing libraries mentioned above are installed properly.\n"
     ]
    },
    {
     "name": "stdout",
     "output_type": "stream",
     "text": [
      "2.10.0\n"
     ]
    }
   ],
   "source": [
    "import numpy as np\n",
    "import matplotlib.pyplot as plt\n",
    "import tensorflow as tf\n",
    "print(tf.__version__)"
   ]
  },
  {
   "cell_type": "code",
   "execution_count": 3,
   "id": "c36704aa",
   "metadata": {},
   "outputs": [
    {
     "data": {
      "text/plain": [
       "(10000, 28, 28)"
      ]
     },
     "execution_count": 3,
     "metadata": {},
     "output_type": "execute_result"
    }
   ],
   "source": [
    "fmnist = tf.keras.datasets.fashion_mnist\n",
    "(train_images, train_labels), (test_images, test_labels) = fmnist.load_data()\n",
    "test_images.shape"
   ]
  }
 ],
 "metadata": {
  "kernelspec": {
   "display_name": "Python 3 (ipykernel)",
   "language": "python",
   "name": "python3"
  },
  "language_info": {
   "codemirror_mode": {
    "name": "ipython",
    "version": 3
   },
   "file_extension": ".py",
   "mimetype": "text/x-python",
   "name": "python",
   "nbconvert_exporter": "python",
   "pygments_lexer": "ipython3",
   "version": "3.10.6"
  }
 },
 "nbformat": 4,
 "nbformat_minor": 5
}
